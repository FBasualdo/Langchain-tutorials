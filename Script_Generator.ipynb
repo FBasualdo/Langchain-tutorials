{
  "nbformat": 4,
  "nbformat_minor": 0,
  "metadata": {
    "colab": {
      "provenance": []
    },
    "kernelspec": {
      "name": "python3",
      "display_name": "Python 3"
    },
    "language_info": {
      "name": "python"
    }
  },
  "cells": [
    {
      "cell_type": "code",
      "execution_count": null,
      "metadata": {
        "id": "J80LExxK05Cc"
      },
      "outputs": [],
      "source": [
        "pip install langchain"
      ]
    },
    {
      "cell_type": "code",
      "source": [
        "pip install langchain_openai"
      ],
      "metadata": {
        "id": "TiXcscww9DpO"
      },
      "execution_count": null,
      "outputs": []
    },
    {
      "cell_type": "code",
      "source": [
        "pip install beautifulsoup4\n"
      ],
      "metadata": {
        "id": "Phv6qVgRZFm8"
      },
      "execution_count": null,
      "outputs": []
    },
    {
      "cell_type": "code",
      "source": [
        "pip install -U duckduckgo-search"
      ],
      "metadata": {
        "id": "gpz_x8o-FVP_"
      },
      "execution_count": null,
      "outputs": []
    },
    {
      "cell_type": "code",
      "source": [
        "import os\n",
        "\n",
        "OPENAI_API_KEY = \"sk-\" #PUT YOUR API KEY HERE\n"
      ],
      "metadata": {
        "id": "3MAtFee95V9A"
      },
      "execution_count": null,
      "outputs": []
    },
    {
      "cell_type": "code",
      "source": [],
      "metadata": {
        "id": "K70I6qAUEQEs"
      },
      "execution_count": null,
      "outputs": []
    },
    {
      "cell_type": "code",
      "source": [
        "from langchain_openai.chat_models import ChatOpenAI\n",
        "from langchain.chains import LLMChain\n",
        "from langchain.output_parsers import PydanticOutputParser\n",
        "from langchain.prompts import PromptTemplate\n",
        "\n",
        "QUERY_PROMPT = PromptTemplate(\n",
        "    input_variables=[\"topic\"],\n",
        "    template =\"\"\"You are an AI language model assistant. Your task is to generate five different\n",
        "    points of investigation of the given topic of the video. This will be used to search in Google.\n",
        "    By generating multiple perspectives of a research, your goal is to help the user to have a complete essay of a topic\n",
        "    Provide these investigation branches separates by newlines and starting with .:\n",
        "\n",
        "    Topic of essay: {topic}\n",
        "\n",
        "    DO NOT WRITE NUMBERS FOR LISTING\n",
        "    \"\"\"\n",
        ")\n",
        "\n",
        "\n",
        "llm = ChatOpenAI(temperature=.2, api_key= OPENAI_API_KEY)\n",
        "\n",
        "llm_chain = LLMChain(llm=llm, prompt=QUERY_PROMPT)\n",
        "GENERAL_TOPIC = \"SQL\"\n",
        "investigation_lines = llm_chain.invoke(GENERAL_TOPIC)\n",
        "investigation_lines = investigation_lines[\"text\"].strip().split(\"\\n\")\n",
        "print(investigation_lines)\n",
        "\n",
        "\n",
        "\n"
      ],
      "metadata": {
        "id": "F8rfQYpnwzd7"
      },
      "execution_count": null,
      "outputs": []
    },
    {
      "cell_type": "code",
      "source": [
        "investigation_lines = [topic.replace(\". \", \"\") for topic in investigation_lines]\n",
        "\n",
        "print(investigation_lines)"
      ],
      "metadata": {
        "id": "epF3gVixCCf2"
      },
      "execution_count": null,
      "outputs": []
    },
    {
      "cell_type": "code",
      "source": [
        "from types import WrapperDescriptorType\n",
        "from langchain.tools import DuckDuckGoSearchRun, DuckDuckGoSearchResults\n",
        "from langchain_community.utilities import DuckDuckGoSearchAPIWrapper\n",
        "import re\n",
        "\n",
        "search = DuckDuckGoSearchResults()\n",
        "\n",
        "investigation_urls = {}\n",
        "\n",
        "for topic in investigation_lines:\n",
        "  result = search.run(topic)\n",
        "  result = re.findall(r'link:\\s*([^,\\]]+)', result)\n",
        "  investigation_urls[topic] = result\n",
        "\n",
        "print(investigation_urls)"
      ],
      "metadata": {
        "id": "1Pxz8vGj697S"
      },
      "execution_count": null,
      "outputs": []
    },
    {
      "cell_type": "code",
      "source": [
        "from langchain_community.document_loaders import WebBaseLoader\n",
        "\n",
        "content_dict = {}\n",
        "\n",
        "for key, value in investigation_urls.items():\n",
        "  content_list = []\n",
        "  counter = 0\n",
        "  for website in value:\n",
        "    loader = WebBaseLoader(website)\n",
        "    documents = loader.load()\n",
        "    text = re.sub(r'\\n+', '\\n', documents[0].page_content)\n",
        "    lines = text.split(\"\\n\")\n",
        "    filtered_lines = [line for line in lines if len(line.split()) >= 8]\n",
        "    text = \"\\n\".join(filtered_lines)\n",
        "    content_list.append(text)\n",
        "    counter += 1\n",
        "    if counter == 3:\n",
        "      break\n",
        "\n",
        "  content_dict[key] = content_list\n",
        "\n",
        "print(content_dict)"
      ],
      "metadata": {
        "id": "p343wdUxWn2A"
      },
      "execution_count": null,
      "outputs": []
    },
    {
      "cell_type": "code",
      "source": [
        "from langchain_openai.chat_models import ChatOpenAI\n",
        "\n",
        "llm = ChatOpenAI(api_key= OPENAI_API_KEY, model= 'gpt-3.5-turbo-0125', verbose= True)\n",
        "\n",
        "explanation_dict = {}\n",
        "\n",
        "for key, value in content_dict.items():\n",
        "  prompt = f\"\"\"\n",
        "  Make an explanation of this topic with the given context:\n",
        "  {topic}\n",
        "\n",
        "  Context:\n",
        "  {value}\n",
        "\n",
        "  Do it as specific as posible, it is for an essay\n",
        "  \"\"\"\n",
        "  response = llm.invoke(prompt)\n",
        "  explanation_dict[key] = response.content\n",
        "\n",
        "print(explanation_dict)"
      ],
      "metadata": {
        "id": "cTo6NZuAf4_s"
      },
      "execution_count": null,
      "outputs": []
    },
    {
      "cell_type": "code",
      "source": [
        "for key, value in explanation_dict.items():\n",
        "  print(key,\": \", value)"
      ],
      "metadata": {
        "id": "RUs38rmse9Sz"
      },
      "execution_count": null,
      "outputs": []
    },
    {
      "cell_type": "code",
      "source": [
        "print(len(explanation_dict))"
      ],
      "metadata": {
        "id": "j5AAUlitggjX"
      },
      "execution_count": null,
      "outputs": []
    },
    {
      "cell_type": "code",
      "source": [
        "script_llm = ChatOpenAI(model= 'gpt-4-0125-preview', temperature= .4, api_key= OPENAI_API_KEY)\n",
        "\n",
        "script_prompt = \"\"\"\n",
        "You are a very useful AI whose only role is to take the given information and create a section of a Youtube Video.\n",
        "Then, this sections will be united to create an entire video.\n",
        "This information is not complete, this is the {iteration} iteration of {total_iterations}.\n",
        "This is the information:\n",
        "{information}\n",
        "\n",
        "This is the topic of this section: {current_topic}\n",
        "This is the next topic of the next section: {next_topic}\n",
        "This is the general topic of the video: {topic}\n",
        "\n",
        "Make this script in SPANISH\n",
        "Call the person who is making the video: CONTENT CREATOR\n",
        "\n",
        "DO NOT CREATE AN INTRO AND AN OUTRO\n",
        "\"\"\"\n",
        "\n",
        "template = PromptTemplate(\n",
        "    input_variables=[\"current_topic\", \"next_topic\",\"iteration\", \"total_iteration\", \"information\", \"topic\"],\n",
        "    template= script_prompt\n",
        ")\n",
        "\n",
        "script_chain = LLMChain(llm= script_llm, prompt= template)\n",
        "\n",
        "script = []\n",
        "counter = 1\n",
        "# for key, value in explanation_dict.items():\n",
        "#   response = script_chain.invoke({'iteration': counter,\n",
        "#                                   'total_iterations': len(explanation_dict),\n",
        "#                                   'information': value,\n",
        "#                                   'current_topic': key\n",
        "#                                   ''\n",
        "#                                   'topic': key,\n",
        "#                                   'output': ''})\n",
        "\n",
        "# iterator = iter(explanation_dict.items())\n",
        "\n",
        "\n",
        "\n",
        "\n",
        "keys = list(explanation_dict.keys())\n",
        "num_keys = len(keys)\n",
        "\n",
        "for i, key in enumerate(keys):\n",
        "    next_key = keys[i + 1] if i < num_keys - 1 else None\n",
        "    value = explanation_dict[key]\n",
        "\n",
        "    response = script_chain.invoke({\n",
        "        'iteration': counter,\n",
        "        'total_iterations': num_keys,\n",
        "        'information': value,\n",
        "        'current_topic': key,\n",
        "        'next_topic': next_key,\n",
        "        'topic': GENERAL_TOPIC,\n",
        "        'output': ''\n",
        "    })\n",
        "    script.append(response[\"text\"])"
      ],
      "metadata": {
        "id": "0fuHfdvaexdV"
      },
      "execution_count": null,
      "outputs": []
    },
    {
      "cell_type": "code",
      "source": [
        "parser = \"\"\n",
        "counter = 1\n",
        "for topic in script:\n",
        "    parser += \"SECTION\" + str(counter) + \"\\n\" + topic\n",
        "    counter += 1\n",
        "print(parser)\n"
      ],
      "metadata": {
        "id": "36fnm9cfgwdE"
      },
      "execution_count": null,
      "outputs": []
    },
    {
      "cell_type": "code",
      "source": [
        "print(content_dict.keys())"
      ],
      "metadata": {
        "id": "sSIKrBHenaCB"
      },
      "execution_count": null,
      "outputs": []
    },
    {
      "cell_type": "code",
      "source": [
        "keys = list(explanation_dict.keys())\n",
        "num_keys = len(keys)\n",
        "for i, key in enumerate(keys):\n",
        "    next_key = keys[i + 1] if i < num_keys - 1 else None\n",
        "    value = explanation_dict[key]\n",
        "    print(key, next_key)\n"
      ],
      "metadata": {
        "id": "2lYVIgbZm6ef"
      },
      "execution_count": null,
      "outputs": []
    }
  ]
}